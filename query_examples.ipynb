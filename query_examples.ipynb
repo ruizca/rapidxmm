{
 "cells": [
  {
   "cell_type": "markdown",
   "id": "further-detector",
   "metadata": {},
   "source": [
    "How to query the rapidXMM database using python\n",
    "==============================================\n",
    "\n",
    "The RapidXMM database can be queried programatically using [HTTP GET requests](http://nxsa.esac.esa.int/nxsa-sl/servlet/get-uls). In this repository you can find a [python module](./api/rapidxmm.py) that uses the requests package for querying the database, consistent with the [Astropy](https://www.astropy.org/) ecosystem."
   ]
  },
  {
   "cell_type": "markdown",
   "id": "close-basic",
   "metadata": {},
   "source": [
    "You can obtain all the information contained in the upper limits database at a given position using lists of R.A. and Dec values:"
   ]
  },
  {
   "cell_type": "code",
   "execution_count": 1,
   "id": "immune-differential",
   "metadata": {},
   "outputs": [
    {
     "data": {
      "text/html": [
       "<i>Table length=1</i>\n",
       "<table id=\"table139699627880720\" class=\"table-striped table-bordered table-condensed\">\n",
       "<thead><tr><th>id</th><th>npixel</th><th>nside</th><th>ra</th><th>dec</th><th>obsid</th><th>obstype</th><th>start_date</th><th>end_date</th><th>eef</th><th>area_ratio</th><th>band6_exposure</th><th>band6_src_counts</th><th>band6_bck_counts</th><th>band6_ul_sigma1</th><th>band6_ul_sigma2</th><th>band6_ul_sigma3</th><th>band7_exposure</th><th>band7_src_counts</th><th>band7_bck_counts</th><th>band7_ul_sigma1</th><th>band7_ul_sigma2</th><th>band7_ul_sigma3</th><th>band8_exposure</th><th>band8_src_counts</th><th>band8_bck_counts</th><th>band8_ul_sigma1</th><th>band8_ul_sigma2</th><th>band8_ul_sigma3</th><th>start_timestamp</th><th>instrum</th><th>filt</th><th>band6_flags</th><th>band7_flags</th><th>band8_flags</th></tr></thead>\n",
       "<thead><tr><th>int64</th><th>int64</th><th>int64</th><th>float64</th><th>float64</th><th>str10</th><th>str4</th><th>str19</th><th>str19</th><th>float64</th><th>float64</th><th>float64</th><th>int64</th><th>float64</th><th>float64</th><th>float64</th><th>float64</th><th>float64</th><th>int64</th><th>float64</th><th>float64</th><th>float64</th><th>float64</th><th>float64</th><th>int64</th><th>float64</th><th>float64</th><th>float64</th><th>float64</th><th>int64</th><th>str2</th><th>str6</th><th>int64</th><th>int64</th><th>int64</th></tr></thead>\n",
       "<tr><td>15965428508</td><td>4625393631</td><td>15</td><td>20.0006103516</td><td>-4.0003853849</td><td>9184000003</td><td>slew</td><td>2009-12-26T05:56:35</td><td>2009-12-26T06:39:11</td><td>0.85</td><td>0.032973174</td><td>3.565029</td><td>0</td><td>0.0</td><td>0.60744977</td><td>1.24774</td><td>2.1685438</td><td>2.364278</td><td>0</td><td>0.0</td><td>0.91595656</td><td>1.8814322</td><td>3.2698865</td><td>2.7630625</td><td>0</td><td>0.0</td><td>0.7837593</td><td>1.6098908</td><td>2.7979536</td><td>1261806995</td><td>PN</td><td>Medium</td><td>0</td><td>0</td><td>0</td></tr>\n",
       "</table>"
      ],
      "text/plain": [
       "<Table length=1>\n",
       "     id       npixel   nside ... band6_flags band7_flags band8_flags\n",
       "   int64      int64    int64 ...    int64       int64       int64   \n",
       "----------- ---------- ----- ... ----------- ----------- -----------\n",
       "15965428508 4625393631    15 ...           0           0           0"
      ]
     },
     "execution_count": 1,
     "metadata": {},
     "output_type": "execute_result"
    }
   ],
   "source": [
    "from api import rapidxmm as rpx\n",
    "\n",
    "ra = [20.0]  # in degrees\n",
    "dec = [-4.0] # in degrees\n",
    "\n",
    "uls = rpx.query_radec(ra, dec)"
   ]
  },
  {
   "cell_type": "markdown",
   "id": "fewer-server",
   "metadata": {},
   "source": [
    "Alternatively, you can also use SkyCoord's Astropy objects for querying:"
   ]
  },
  {
   "cell_type": "code",
   "execution_count": 3,
   "id": "aggregate-measure",
   "metadata": {},
   "outputs": [
    {
     "data": {
      "text/html": [
       "<i>Table length=1</i>\n",
       "<table id=\"table139699627286416\" class=\"table-striped table-bordered table-condensed\">\n",
       "<thead><tr><th>id</th><th>npixel</th><th>nside</th><th>ra</th><th>dec</th><th>obsid</th><th>obstype</th><th>start_date</th><th>end_date</th><th>eef</th><th>area_ratio</th><th>band6_exposure</th><th>band6_src_counts</th><th>band6_bck_counts</th><th>band6_ul_sigma1</th><th>band6_ul_sigma2</th><th>band6_ul_sigma3</th><th>band7_exposure</th><th>band7_src_counts</th><th>band7_bck_counts</th><th>band7_ul_sigma1</th><th>band7_ul_sigma2</th><th>band7_ul_sigma3</th><th>band8_exposure</th><th>band8_src_counts</th><th>band8_bck_counts</th><th>band8_ul_sigma1</th><th>band8_ul_sigma2</th><th>band8_ul_sigma3</th><th>start_timestamp</th><th>instrum</th><th>filt</th><th>band6_flags</th><th>band7_flags</th><th>band8_flags</th></tr></thead>\n",
       "<thead><tr><th>int64</th><th>int64</th><th>int64</th><th>float64</th><th>float64</th><th>str10</th><th>str4</th><th>str19</th><th>str19</th><th>float64</th><th>float64</th><th>float64</th><th>int64</th><th>float64</th><th>float64</th><th>float64</th><th>float64</th><th>float64</th><th>int64</th><th>float64</th><th>float64</th><th>float64</th><th>float64</th><th>float64</th><th>int64</th><th>float64</th><th>float64</th><th>float64</th><th>float64</th><th>int64</th><th>str2</th><th>str6</th><th>int64</th><th>int64</th><th>int64</th></tr></thead>\n",
       "<tr><td>15965428508</td><td>4625393631</td><td>15</td><td>20.0006103516</td><td>-4.0003853849</td><td>9184000003</td><td>slew</td><td>2009-12-26T05:56:35</td><td>2009-12-26T06:39:11</td><td>0.85</td><td>0.032973174</td><td>3.565029</td><td>0</td><td>0.0</td><td>0.60744977</td><td>1.24774</td><td>2.1685438</td><td>2.364278</td><td>0</td><td>0.0</td><td>0.91595656</td><td>1.8814322</td><td>3.2698865</td><td>2.7630625</td><td>0</td><td>0.0</td><td>0.7837593</td><td>1.6098908</td><td>2.7979536</td><td>1261806995</td><td>PN</td><td>Medium</td><td>0</td><td>0</td><td>0</td></tr>\n",
       "</table>"
      ],
      "text/plain": [
       "<Table length=1>\n",
       "     id       npixel   nside ... band6_flags band7_flags band8_flags\n",
       "   int64      int64    int64 ...    int64       int64       int64   \n",
       "----------- ---------- ----- ... ----------- ----------- -----------\n",
       "15965428508 4625393631    15 ...           0           0           0"
      ]
     },
     "execution_count": 3,
     "metadata": {},
     "output_type": "execute_result"
    }
   ],
   "source": [
    "from astropy.coordinates import SkyCoord\n",
    "\n",
    "coord = SkyCoord(ra=ra, dec=dec, unit=\"deg\")\n",
    "uls = rpx.query_coords(coord)"
   ]
  },
  {
   "cell_type": "markdown",
   "id": "suited-riverside",
   "metadata": {},
   "source": [
    "You can also query using HEALPix cell numbers, following the [nested numbering scheme](https://healpix.jpl.nasa.gov/html/intronode4.htm). RapidXMM uses a HEALPix order of 16 for pointed observations and 15 for slew data."
   ]
  },
  {
   "cell_type": "code",
   "execution_count": 5,
   "id": "molecular-bicycle",
   "metadata": {},
   "outputs": [
    {
     "data": {
      "text/html": [
       "<i>Table length=1</i>\n",
       "<table id=\"table139699627335568\" class=\"table-striped table-bordered table-condensed\">\n",
       "<thead><tr><th>id</th><th>npixel</th><th>nside</th><th>ra</th><th>dec</th><th>obsid</th><th>obstype</th><th>start_date</th><th>end_date</th><th>eef</th><th>area_ratio</th><th>band6_exposure</th><th>band6_src_counts</th><th>band6_bck_counts</th><th>band6_ul_sigma1</th><th>band6_ul_sigma2</th><th>band6_ul_sigma3</th><th>band7_exposure</th><th>band7_src_counts</th><th>band7_bck_counts</th><th>band7_ul_sigma1</th><th>band7_ul_sigma2</th><th>band7_ul_sigma3</th><th>band8_exposure</th><th>band8_src_counts</th><th>band8_bck_counts</th><th>band8_ul_sigma1</th><th>band8_ul_sigma2</th><th>band8_ul_sigma3</th><th>start_timestamp</th><th>instrum</th><th>filt</th><th>band6_flags</th><th>band7_flags</th><th>band8_flags</th></tr></thead>\n",
       "<thead><tr><th>int64</th><th>int64</th><th>int64</th><th>float64</th><th>float64</th><th>str10</th><th>str4</th><th>str19</th><th>str19</th><th>float64</th><th>float64</th><th>float64</th><th>int64</th><th>float64</th><th>float64</th><th>float64</th><th>float64</th><th>float64</th><th>int64</th><th>float64</th><th>float64</th><th>float64</th><th>float64</th><th>float64</th><th>int64</th><th>float64</th><th>float64</th><th>float64</th><th>float64</th><th>int64</th><th>str2</th><th>str6</th><th>int64</th><th>int64</th><th>int64</th></tr></thead>\n",
       "<tr><td>15965428508</td><td>4625393631</td><td>15</td><td>20.0006103516</td><td>-4.0003853849</td><td>9184000003</td><td>slew</td><td>2009-12-26T05:56:35</td><td>2009-12-26T06:39:11</td><td>0.85</td><td>0.032973174</td><td>3.565029</td><td>0</td><td>0.0</td><td>0.60744977</td><td>1.24774</td><td>2.1685438</td><td>2.364278</td><td>0</td><td>0.0</td><td>0.91595656</td><td>1.8814322</td><td>3.2698865</td><td>2.7630625</td><td>0</td><td>0.0</td><td>0.7837593</td><td>1.6098908</td><td>2.7979536</td><td>1261806995</td><td>PN</td><td>Medium</td><td>0</td><td>0</td><td>0</td></tr>\n",
       "</table>"
      ],
      "text/plain": [
       "<Table length=1>\n",
       "     id       npixel   nside ... band6_flags band7_flags band8_flags\n",
       "   int64      int64    int64 ...    int64       int64       int64   \n",
       "----------- ---------- ----- ... ----------- ----------- -----------\n",
       "15965428508 4625393631    15 ...           0           0           0"
      ]
     },
     "execution_count": 5,
     "metadata": {},
     "output_type": "execute_result"
    }
   ],
   "source": [
    "npixel = [4625393631]\n",
    "uls = rpx.query_npixels(npixel, obstype=\"slew\")  # By default query_npixels assumes obstype=\"pointed\""
   ]
  },
  {
   "cell_type": "markdown",
   "id": "powered-underground",
   "metadata": {},
   "source": [
    "All query functions return Astropy Tables, with a row for data entry in the database at each input position. Since a certain position can be observed multiple times by XMM-Newton, is possible to obtain multiple upper limits for a single position."
   ]
  },
  {
   "cell_type": "markdown",
   "id": "practical-thought",
   "metadata": {},
   "source": [
    "Query of 100 random positions in the sky:"
   ]
  },
  {
   "cell_type": "code",
   "execution_count": 11,
   "id": "current-immune",
   "metadata": {},
   "outputs": [],
   "source": [
    "import numpy as np\n",
    "\n",
    "rng = np.random.default_rng()\n",
    "\n",
    "n = 100\n",
    "ra = 360 * rng.random(n)\n",
    "dec = 180 * rng.random(n) - 90\n",
    "coords = SkyCoord(ra, dec, unit=\"deg\")\n",
    "\n",
    "uls = rpx.query_coords(coords)"
   ]
  },
  {
   "cell_type": "markdown",
   "id": "southwest-cooperative",
   "metadata": {},
   "source": [
    "You can query only for a certain XMM-Newton's observation type:"
   ]
  },
  {
   "cell_type": "code",
   "execution_count": 14,
   "id": "impaired-barcelona",
   "metadata": {},
   "outputs": [],
   "source": [
    "uls = rpx.query_coords(coords, obstype=\"pointed\")"
   ]
  },
  {
   "cell_type": "code",
   "execution_count": 16,
   "id": "surprising-going",
   "metadata": {},
   "outputs": [],
   "source": [
    "uls = rpx.query_coords(coords, obstype=\"slew\")"
   ]
  },
  {
   "cell_type": "markdown",
   "id": "corporate-cambodia",
   "metadata": {},
   "source": [
    "And also for a certain detector:"
   ]
  },
  {
   "cell_type": "code",
   "execution_count": 20,
   "id": "prostate-radical",
   "metadata": {},
   "outputs": [],
   "source": [
    "uls = rpx.query_coords(coords, instrum=\"PN\")"
   ]
  },
  {
   "cell_type": "code",
   "execution_count": 22,
   "id": "prescription-anthropology",
   "metadata": {},
   "outputs": [],
   "source": [
    "uls = rpx.query_coords(coords, instrum=\"M1\")"
   ]
  },
  {
   "cell_type": "code",
   "execution_count": 24,
   "id": "willing-kazakhstan",
   "metadata": {},
   "outputs": [],
   "source": [
    "uls = rpx.query_coords(coords, instrum=\"M2\")"
   ]
  },
  {
   "cell_type": "markdown",
   "id": "continuous-indonesia",
   "metadata": {},
   "source": [
    "Due to current limitations in the public RapidXMM API, is not possible to query more than ~200 positions at once. Large queries can be done by splitting the list of positions and doing multiple queries:"
   ]
  },
  {
   "cell_type": "code",
   "execution_count": 32,
   "id": "fluid-seventh",
   "metadata": {},
   "outputs": [],
   "source": [
    "from astropy.table import vstack\n",
    "\n",
    "n = 1300\n",
    "ra = 360 * rng.random(n)\n",
    "dec = 180 * rng.random(n) - 90\n",
    "coords = SkyCoord(ra, dec, unit=\"deg\")\n",
    "\n",
    "start, stop = 0, 200\n",
    "coords_segment = coords[start:stop]\n",
    "\n",
    "uls_tables = []\n",
    "while len(coords_segment):\n",
    "    uls_tables.append(rpx.query_coords(coords_segment))\n",
    "\n",
    "    start = stop\n",
    "    stop = stop + 200\n",
    "    coords_segment = coords[start:stop]\n",
    "\n",
    "uls = vstack(uls_tables)"
   ]
  }
 ],
 "metadata": {
  "kernelspec": {
   "display_name": "Astro",
   "language": "python",
   "name": "astro"
  },
  "language_info": {
   "codemirror_mode": {
    "name": "ipython",
    "version": 3
   },
   "file_extension": ".py",
   "mimetype": "text/x-python",
   "name": "python",
   "nbconvert_exporter": "python",
   "pygments_lexer": "ipython3",
   "version": "3.7.9"
  }
 },
 "nbformat": 4,
 "nbformat_minor": 5
}
