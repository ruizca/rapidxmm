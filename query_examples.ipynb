{
 "cells": [
  {
   "cell_type": "markdown",
   "id": "handmade-garden",
   "metadata": {},
   "source": [
    "How to query the rapidXMM database using python\n",
    "==============================================\n",
    "\n",
    "The RapidXMM database can be queried programatically using [HTTP GET requests](http://nxsa.esac.esa.int/nxsa-sl/servlet/get-uls). In this repository you can find a [python module](./api/rapidxmm.py) that uses the requests package for querying the database, consistent with the [Astropy](https://www.astropy.org/) ecosystem."
   ]
  },
  {
   "cell_type": "markdown",
   "id": "mathematical-honey",
   "metadata": {},
   "source": [
    "You can obtain all the information contained in the upper limits database at a given position using lists of R.A. and Dec values:"
   ]
  },
  {
   "cell_type": "code",
   "execution_count": null,
   "id": "revolutionary-country",
   "metadata": {},
   "outputs": [],
   "source": [
    "from api import rapidxmm as rpx\n",
    "\n",
    "ra = [20.0]  # in degrees\n",
    "dec = [-4.0] # in degrees\n",
    "\n",
    "uls = rpx.query_radec(ra, dec)"
   ]
  },
  {
   "cell_type": "markdown",
   "id": "eligible-defensive",
   "metadata": {},
   "source": [
    "Alternatively, you can also use SkyCoord's Astropy objects for querying:"
   ]
  },
  {
   "cell_type": "code",
   "execution_count": null,
   "id": "personal-coverage",
   "metadata": {},
   "outputs": [],
   "source": [
    "from astropy.coordinates import SkyCoord\n",
    "\n",
    "coord = SkyCoord(ra=ra, dec=dec, unit=\"deg\")\n",
    "uls = rpx.query_coords(coord)"
   ]
  },
  {
   "cell_type": "markdown",
   "id": "greenhouse-spokesman",
   "metadata": {},
   "source": [
    "You can also query using HEALPix cell numbers, following the [nested numbering scheme](https://healpix.jpl.nasa.gov/html/intronode4.htm). RapidXMM uses a HEALPix order of 16 for pointed observations and 15 for slew data."
   ]
  },
  {
   "cell_type": "code",
   "execution_count": null,
   "id": "differential-anthony",
   "metadata": {},
   "outputs": [],
   "source": [
    "npixel = [4625393631]\n",
    "uls = rpx.query_npixels(npixel, obstype=\"slew\")  # By default query_npixels assumes obstype=\"pointed\""
   ]
  },
  {
   "cell_type": "markdown",
   "id": "executive-arbitration",
   "metadata": {},
   "source": [
    "All query functions return Astropy Tables, with a row for data entry in the database at each input position. Since a certain position can be observed multiple times by XMM-Newton, is possible to obtain multiple upper limits for a single position."
   ]
  },
  {
   "cell_type": "markdown",
   "id": "fresh-scheduling",
   "metadata": {},
   "source": [
    "Query of 100 random positions in the sky:"
   ]
  },
  {
   "cell_type": "code",
   "execution_count": null,
   "id": "psychological-mystery",
   "metadata": {},
   "outputs": [],
   "source": [
    "import numpy as np\n",
    "\n",
    "rng = np.random.default_rng()\n",
    "\n",
    "n = 100\n",
    "ra = 360 * rng.random(n)\n",
    "dec = 180 * rng.random(n) - 90\n",
    "coords = SkyCoord(ra, dec, unit=\"deg\")\n",
    "\n",
    "uls = rpx.query_coords(coords)"
   ]
  },
  {
   "cell_type": "markdown",
   "id": "weekly-techno",
   "metadata": {},
   "source": [
    "You can query only for a certain XMM-Newton's observation type:"
   ]
  },
  {
   "cell_type": "code",
   "execution_count": null,
   "id": "blind-queen",
   "metadata": {},
   "outputs": [],
   "source": [
    "uls = rpx.query_coords(coords, obstype=\"pointed\")"
   ]
  },
  {
   "cell_type": "code",
   "execution_count": null,
   "id": "aboriginal-helen",
   "metadata": {},
   "outputs": [],
   "source": [
    "uls = rpx.query_coords(coords, obstype=\"slew\")"
   ]
  },
  {
   "cell_type": "markdown",
   "id": "limiting-start",
   "metadata": {},
   "source": [
    "And also for a certain detector:"
   ]
  },
  {
   "cell_type": "code",
   "execution_count": null,
   "id": "cutting-yesterday",
   "metadata": {},
   "outputs": [],
   "source": [
    "uls = rpx.query_coords(coords, instrum=\"PN\")"
   ]
  },
  {
   "cell_type": "code",
   "execution_count": null,
   "id": "israeli-merchandise",
   "metadata": {},
   "outputs": [],
   "source": [
    "uls = rpx.query_coords(coords, instrum=\"M1\")"
   ]
  },
  {
   "cell_type": "code",
   "execution_count": null,
   "id": "respected-germany",
   "metadata": {},
   "outputs": [],
   "source": [
    "uls = rpx.query_coords(coords, instrum=\"M2\")"
   ]
  },
  {
   "cell_type": "markdown",
   "id": "buried-thirty",
   "metadata": {},
   "source": [
    "Due to current limitations in the public RapidXMM API, is not possible to query more than ~200 positions at once. Large queries can be done by splitting the list of positions and doing multiple queries:"
   ]
  },
  {
   "cell_type": "code",
   "execution_count": null,
   "id": "arranged-hurricane",
   "metadata": {},
   "outputs": [],
   "source": [
    "from astropy.table import vstack\n",
    "\n",
    "n = 1300\n",
    "ra = 360 * rng.random(n)\n",
    "dec = 180 * rng.random(n) - 90\n",
    "coords = SkyCoord(ra, dec, unit=\"deg\")\n",
    "\n",
    "start, stop = 0, 200\n",
    "coords_segment = coords[start:stop]\n",
    "\n",
    "uls_tables = []\n",
    "while len(coords_segment):\n",
    "    uls_tables.append(rpx.query_coords(coords_segment))\n",
    "\n",
    "    start = stop\n",
    "    stop = stop + 200\n",
    "    coords_segment = coords[start:stop]\n",
    "\n",
    "uls = vstack(uls_tables)"
   ]
  }
 ],
 "metadata": {
  "kernelspec": {
   "display_name": "Astro",
   "language": "python",
   "name": "astro"
  },
  "language_info": {
   "codemirror_mode": {
    "name": "ipython",
    "version": 3
   },
   "file_extension": ".py",
   "mimetype": "text/x-python",
   "name": "python",
   "nbconvert_exporter": "python",
   "pygments_lexer": "ipython3",
   "version": "3.7.11"
  }
 },
 "nbformat": 4,
 "nbformat_minor": 5
}
