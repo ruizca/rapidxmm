{
 "cells": [
  {
   "cell_type": "markdown",
   "metadata": {},
   "source": [
    "Stacking of SDSS QSO in the XXL-North field using RapidXMM\n",
    "=================================\n",
    "\n",
    "We do stacking for SDSS QSO far from any 4XMM sources (> 1 arcmin), and at random positions in the field."
   ]
  },
  {
   "cell_type": "markdown",
   "metadata": {},
   "source": [
    "We first stack QSO with no X-ray counterpart:"
   ]
  },
  {
   "cell_type": "code",
   "execution_count": null,
   "metadata": {},
   "outputs": [],
   "source": [
    "%load_ext autoreload\n",
    "%autoreload 2"
   ]
  },
  {
   "cell_type": "code",
   "execution_count": null,
   "metadata": {},
   "outputs": [],
   "source": [
    "from pathlib import Path\n",
    "from astropy.table import Table, unique\n",
    "\n",
    "data_folder = Path(\"./data\")\n",
    "qso_filename = data_folder.joinpath(\"uls_qso_farfrom_xsources_xxl.fits\")\n",
    "qso = Table.read(qso_filename)\n",
    "qso = unique(qso, keys=\"npixel\")\n",
    "len(qso)"
   ]
  },
  {
   "cell_type": "code",
   "execution_count": null,
   "metadata": {},
   "outputs": [],
   "source": [
    "from api.stacking import stacking\n",
    "\n",
    "_, _, _, _, _, scale, n, nsrc = stacking.stack_npixels(\n",
    "    qso[\"npixel\"],\n",
    "    level_neighbours=6,\n",
    "    params=None,\n",
    "    max_data=10000,\n",
    "    calc_flux=False,\n",
    "    use_flagged_pixels=False,\n",
    "    custom_bkg=True,\n",
    "    with_plots=True,\n",
    "    plotfile=Path(\"stacking_qso_xxl.pdf\")\n",
    ")"
   ]
  },
  {
   "cell_type": "markdown",
   "metadata": {},
   "source": [
    "Now we stack random positions in the XXL field selected far from any X-ray source or optical QSO. For this we have defined a MOC where areas within 30 arcsec around any QSO or X-ray sources are removed. We select random healpix cells within that MOC for stacking."
   ]
  },
  {
   "cell_type": "code",
   "execution_count": null,
   "metadata": {},
   "outputs": [],
   "source": [
    "import numpy as np\n",
    "from mocpy import MOC\n",
    "from mocpy.core import flatten_pixels\n",
    "\n",
    "xxl_masked_moc_file = data_folder.joinpath(\"xxl_sdssqso_4xmm_masked.moc\")\n",
    "xxl_masked_moc = MOC.from_fits(xxl_masked_moc_file)\n",
    "xxl_masked_hpixels = flatten_pixels(xxl_masked_moc._interval_set._intervals, 16)\n",
    "\n",
    "rng = np.random.default_rng()\n",
    "qsornd = rng.choice(xxl_masked_hpixels, size=nsrc, replace=False)\n",
    "qsornd = qsornd.astype(int)"
   ]
  },
  {
   "cell_type": "code",
   "execution_count": null,
   "metadata": {},
   "outputs": [],
   "source": [
    "stacking.stack_npixels(\n",
    "    qsornd,\n",
    "    level_neighbours=6,\n",
    "    params=None,\n",
    "    max_data=10000,\n",
    "    calc_flux=False,\n",
    "    use_flagged_pixels=False,\n",
    "    custom_bkg=True,\n",
    "    with_plots=True,\n",
    "    plotfile=Path(\"stacking_rnd_xxl.pdf\"),\n",
    "    scale=scale,\n",
    ")"
   ]
  }
 ],
 "metadata": {
  "kernelspec": {
   "display_name": "Astro",
   "language": "python",
   "name": "astro"
  },
  "language_info": {
   "codemirror_mode": {
    "name": "ipython",
    "version": 3
   },
   "file_extension": ".py",
   "mimetype": "text/x-python",
   "name": "python",
   "nbconvert_exporter": "python",
   "pygments_lexer": "ipython3",
   "version": "3.7.11"
  }
 },
 "nbformat": 4,
 "nbformat_minor": 4
}
