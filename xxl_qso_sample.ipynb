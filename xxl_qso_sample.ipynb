{
 "cells": [
  {
   "cell_type": "markdown",
   "id": "bored-representation",
   "metadata": {},
   "source": [
    "Selection of SDSS-QSO in XXL-North field\n",
    "==========================================\n",
    "\n",
    "We use the catalogue of QSO from SDSS-DR16 to select two samples of sources within the XXL-North field: a set of optical QSO with no X-ray counterparts, and a set of QSO with counterparts in the 4XMM catalogue."
   ]
  },
  {
   "cell_type": "code",
   "execution_count": null,
   "id": "limited-springfield",
   "metadata": {},
   "outputs": [],
   "source": [
    "from pathlib import Path\n",
    "from mocpy import MOC\n",
    "\n",
    "data_folder = Path(\"./data\")\n",
    "xxl_moc_file = data_folder.joinpath(\"xxl.moc\")\n",
    "xxl_moc = MOC.from_fits(xxl_moc_file)\n",
    "\n",
    "xxl_sdssqso = xxl_moc.query_vizier_table(\"VII/289/dr16q\", max_rows=None)\n",
    "xxl_4xmm = xxl_moc.query_vizier_table(\"IX/59/xmm4dr9s\", max_rows=None)\n",
    "\n",
    "print(f\"SDSS-QSO in XXL-North: {len(xxl_sdssqso)} sources\")\n",
    "print(f\"4XMM sources in XXL-North: {len(xxl_4xmm)} sources\")"
   ]
  },
  {
   "cell_type": "code",
   "execution_count": null,
   "id": "worse-modem",
   "metadata": {},
   "outputs": [],
   "source": [
    "from astropy.coordinates import SkyCoord\n",
    "from astropy.table import setdiff, unique\n",
    "\n",
    "xxl_sdssqso_coords = SkyCoord(xxl_sdssqso[\"RAJ2000\"], xxl_sdssqso[\"DEJ2000\"])\n",
    "xxl_4xmm_coords = SkyCoord(xxl_4xmm[\"RA_ICRS\"], xxl_4xmm[\"DE_ICRS\"])\n",
    "\n",
    "idx, d2d, _ = xxl_4xmm_coords.match_to_catalog_sky(xxl_sdssqso_coords)\n",
    "\n",
    "mask = d2d.arcsec < 5\n",
    "qsox = xxl_sdssqso[idx[mask]]\n",
    "\n",
    "mask = d2d.arcmin < 1\n",
    "qso_near_xsources = xxl_sdssqso[idx[mask]]\n",
    "qso_farfrom_xsources = setdiff(xxl_sdssqso, qso_near_xsources, keys=\"recno\")\n",
    "\n",
    "print(f\"SDSS-QSO with 4XMM counterpart in XXL-North: {len(qsox)} sources\")\n",
    "print(f\"SDSS-QSO far from 4XMM sources in XXL-North: {len(qso_farfrom_xsources)} sources\")"
   ]
  },
  {
   "cell_type": "markdown",
   "id": "vital-julian",
   "metadata": {},
   "source": [
    "Download RapidXMM data for QSO far from X-ray sources:"
   ]
  },
  {
   "cell_type": "code",
   "execution_count": null,
   "id": "medium-triangle",
   "metadata": {},
   "outputs": [],
   "source": [
    "from api import rapidxmm\n",
    "\n",
    "qso_farfrom_xsources_coords = SkyCoord(qso_farfrom_xsources[\"RAJ2000\"], qso_farfrom_xsources[\"DEJ2000\"])\n",
    "uls_qso_farfrom_xsources = rapidxmm.query_coords(qso_farfrom_xsources_coords, obstype=\"pointed\", instrum=\"PN\")\n",
    "\n",
    "uls_qso_farfrom_xsources_file = data_folder.joinpath(\"uls_qso_farfrom_xsources_xxl.fits\")\n",
    "uls_qso_farfrom_xsources.write(uls_qso_farfrom_xsources_file, format=\"fits\", overwrite=True)\n",
    "\n",
    "len(uls_qso_farfrom_xsources)"
   ]
  },
  {
   "cell_type": "markdown",
   "id": "warming-marina",
   "metadata": {},
   "source": [
    "Download RapidXMM data for QSO with X-ray counterparts:"
   ]
  },
  {
   "cell_type": "code",
   "execution_count": null,
   "id": "weighted-delay",
   "metadata": {},
   "outputs": [],
   "source": [
    "import numpy as np\n",
    "from tqdm.auto import tqdm\n",
    "from astropy.table import join, vstack\n",
    "\n",
    "\n",
    "qsox_coords = SkyCoord(qsox[\"RAJ2000\"], qsox[\"DEJ2000\"])\n",
    "\n",
    "ebands = [\"6\", \"7\", \"8\"]\n",
    "uls_all = []\n",
    "\n",
    "nsplit = np.ceil(len(qsox_coords) / 200)\n",
    "for coords_segment in tqdm(np.array_split(qsox_coords, nsplit)):\n",
    "    uls = rapidxmm.query_coords(coords_segment, obstype=\"pointed\", instrum=\"PN\")\n",
    "\n",
    "    # Calculate count-rates\n",
    "    for eband in ebands:\n",
    "        uls[f\"band{eband}_cr\"] = (\n",
    "            (uls[f\"band{eband}_src_counts\"] - uls[f\"band{eband}_bck_counts\"]) / \n",
    "            uls[f\"band{eband}_exposure\"] / uls[\"eef\"]\n",
    "        )\n",
    "        \n",
    "    uls_all.append(uls)\n",
    "\n",
    "uls_qsox = vstack(uls_all)\n",
    "\n",
    "len(uls_qsox)"
   ]
  },
  {
   "cell_type": "markdown",
   "id": "infrared-discount",
   "metadata": {},
   "source": [
    "Band 8 count-rates distirbution, including stacking results:"
   ]
  },
  {
   "cell_type": "code",
   "execution_count": null,
   "id": "known-music",
   "metadata": {},
   "outputs": [],
   "source": [
    "import matplotlib.pyplot as plt\n",
    "\n",
    "plt.rcParams['mathtext.fontset'] = \"stix\"\n",
    "plt.rcParams['mathtext.rm'] = \"STIXGeneral\"\n",
    "plt.rcParams['font.family'] = \"STIXGeneral\"\n",
    "plt.rcParams['font.size'] = 13\n",
    "plt.rcParams[\"axes.formatter.use_mathtext\"] = True\n",
    "plt.rcParams[\"legend.labelspacing\"] = 0.25\n",
    "    \n",
    "plt.figure(figsize=(6, 2.5))\n",
    "\n",
    "plt.subplot(121)\n",
    "bins = np.logspace(-4, 1, num=21)\n",
    "plt.hist(uls_qsox[\"band8_cr\"], bins=bins, color=\"gray\")\n",
    "plt.axvline(1.5e-03, ls=\"--\", lw=3, color=\"k\")\n",
    "plt.xlim(1e-4, 1)\n",
    "plt.xscale('log')\n",
    "plt.grid(ls=\":\", lw=1.5)\n",
    "plt.xlabel(\"count rate (0.2-12 keV)\")\n",
    "\n",
    "plt.subplot(122)\n",
    "cr_ratio = uls_qsox[\"band7_cr\"] / uls_qsox[\"band6_cr\"]\n",
    "cr_ratio_stack = 3.4e-04 / 9.9e-04\n",
    "bins = np.logspace(-3, 2, num=21)\n",
    "plt.hist(cr_ratio, bins=bins, color=\"gray\")\n",
    "plt.axvline(cr_ratio_stack, ls=\"--\", lw=3, color=\"k\")\n",
    "plt.xlim(1e-3, 100)\n",
    "plt.xscale('log')\n",
    "plt.grid(ls=\":\", lw=1.5)\n",
    "plt.xlabel(\"hard-to-soft count rate ratio\")\n",
    "\n",
    "plt.tight_layout()\n",
    "plt.savefig(\"stacking_qso_xxl_crdist.pdf\", bbox_inches='tight', pad_inches=0)\n",
    "plt.show()"
   ]
  }
 ],
 "metadata": {
  "kernelspec": {
   "display_name": "Astro",
   "language": "python",
   "name": "astro"
  },
  "language_info": {
   "codemirror_mode": {
    "name": "ipython",
    "version": 3
   },
   "file_extension": ".py",
   "mimetype": "text/x-python",
   "name": "python",
   "nbconvert_exporter": "python",
   "pygments_lexer": "ipython3",
   "version": "3.7.9"
  }
 },
 "nbformat": 4,
 "nbformat_minor": 5
}
